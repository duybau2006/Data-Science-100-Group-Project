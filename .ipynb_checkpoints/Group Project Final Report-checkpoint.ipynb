{
 "cells": [
  {
   "cell_type": "markdown",
   "id": "8bba677f-d398-43f7-925e-aaa3c225352a",
   "metadata": {},
   "source": [
    "# **Group Project Final Report/Insert Title here**\n"
   ]
  },
  {
   "cell_type": "markdown",
   "id": "4e4d8d27-ee82-4781-8237-46f16919976b",
   "metadata": {},
   "source": [
    "## **I. Introduction**\n",
    "\n",
    "**Background Information**\n",
    "\n",
    "**Question**\n",
    "\n",
    "**The dataset consists of two files:**\n",
    "1. Players dataset (`players.csv`)\n",
    "- Contains information about 196 players.\n",
    "- Variables:\n",
    "  + `experience` *(Categorical)*: Skill level of each player (Beginner, Regular, Amateur, Pro, Veteran)\n",
    "  + `subscribe` *(Boolean)*: Whether the player is subscribed (TRUE/FALSE)\n",
    "  + `hashedEmail` *(String)*: Unique identifier for each player\n",
    "  + `played_hours` *(Numeric)*: Total time (in hours) the player has spent on the server\n",
    "  + `name` *(String)*: Player's name\n",
    "  + `gender` *(Categorical)*: Player's preferred gender (7 categories)\n",
    "  + `Age` *(Numeric)*: Player's age (8 to 50 years)\n",
    "\n",
    "2. Sessions Dataset (`sessions.csv`)\n",
    "- Contains information about 1535 sessions.\n",
    "- Variables:\n",
    "  + `hashedEmail` *String*: Unique identifier for each player\n",
    "  + `start_time` *String*: Formatted session start time\n",
    "  + `end_time` *(String)*: Formatted session end time\n",
    "  + `original_start_time` *(Numeric)*: Session start time in UNIX time\n",
    "  + `original_end_time` *(Numeric)*: Session end time in UNIX time\n",
    "\n",
    "**Details about both datasets**\n",
    "- Summary statistics:\n",
    "  + The average play time is around 5.85 hours\n",
    "  + The average players' age is 20-21\n",
    "  + Most players are Subscribed\n",
    "  + Most players are Amateur\n",
    "  + Most players are Male\n",
    "- Potential issues:\n",
    "  + Some players have very high `played_hours` while some have zero, leading to skewed distributions when analyzing.\n",
    "  + Some `age` values are missing, potentially causing problems with data analysis.\n",
    "  + The formatted start/end time is not in a format that can be analyzed.\n",
    "  + Some players might have more than one recorded session, so we have to group by the hashedEmail if we want to analyze the `sessions.csv` file."
   ]
  },
  {
   "cell_type": "markdown",
   "id": "407711d3-5d3b-439c-8235-81ea18e25b94",
   "metadata": {},
   "source": [
    "## **II. Methods & Results**"
   ]
  },
  {
   "cell_type": "markdown",
   "id": "5268879d-09e1-4369-9f2e-934f41a45f71",
   "metadata": {},
   "source": [
    "**Loading the library**"
   ]
  },
  {
   "cell_type": "code",
   "execution_count": 4,
   "id": "eb6437c6-ff6a-4c05-879b-1889722a9451",
   "metadata": {},
   "outputs": [],
   "source": [
    "library(tidyverse)\n",
    "library(dplyr)"
   ]
  },
  {
   "cell_type": "markdown",
   "id": "200015f4-b1ac-4b91-a376-ca0f73660194",
   "metadata": {},
   "source": [
    "**Loading the datasets**"
   ]
  },
  {
   "cell_type": "code",
   "execution_count": 6,
   "id": "77e2d994-ba63-4776-9192-e82030a1150a",
   "metadata": {},
   "outputs": [
    {
     "name": "stderr",
     "output_type": "stream",
     "text": [
      "\u001b[1mRows: \u001b[22m\u001b[34m196\u001b[39m \u001b[1mColumns: \u001b[22m\u001b[34m7\u001b[39m\n",
      "\u001b[36m──\u001b[39m \u001b[1mColumn specification\u001b[22m \u001b[36m────────────────────────────────────────────────────────\u001b[39m\n",
      "\u001b[1mDelimiter:\u001b[22m \",\"\n",
      "\u001b[31mchr\u001b[39m (4): experience, hashedEmail, name, gender\n",
      "\u001b[32mdbl\u001b[39m (2): played_hours, Age\n",
      "\u001b[33mlgl\u001b[39m (1): subscribe\n",
      "\n",
      "\u001b[36mℹ\u001b[39m Use `spec()` to retrieve the full column specification for this data.\n",
      "\u001b[36mℹ\u001b[39m Specify the column types or set `show_col_types = FALSE` to quiet this message.\n",
      "\u001b[1mRows: \u001b[22m\u001b[34m1535\u001b[39m \u001b[1mColumns: \u001b[22m\u001b[34m5\u001b[39m\n",
      "\u001b[36m──\u001b[39m \u001b[1mColumn specification\u001b[22m \u001b[36m────────────────────────────────────────────────────────\u001b[39m\n",
      "\u001b[1mDelimiter:\u001b[22m \",\"\n",
      "\u001b[31mchr\u001b[39m (3): hashedEmail, start_time, end_time\n",
      "\u001b[32mdbl\u001b[39m (2): original_start_time, original_end_time\n",
      "\n",
      "\u001b[36mℹ\u001b[39m Use `spec()` to retrieve the full column specification for this data.\n",
      "\u001b[36mℹ\u001b[39m Specify the column types or set `show_col_types = FALSE` to quiet this message.\n"
     ]
    }
   ],
   "source": [
    "players_data <- read_csv(\"https://raw.githubusercontent.com/duybau2006/Data-Science-100-Group-Project/refs/heads/main/players.csv\")\n",
    "sessions_data <- read_csv(\"https://raw.githubusercontent.com/duybau2006/Data-Science-100-Group-Project/refs/heads/main/sessions.csv\")"
   ]
  },
  {
   "cell_type": "markdown",
   "id": "294464aa-3c7a-4be4-a78f-8ec0949e07e0",
   "metadata": {},
   "source": [
    "**Wrangling and Cleaning the datasets**"
   ]
  },
  {
   "cell_type": "code",
   "execution_count": null,
   "id": "27dd94f5-6424-4d70-b96f-4f994e4bfc5a",
   "metadata": {},
   "outputs": [],
   "source": []
  },
  {
   "cell_type": "markdown",
   "id": "ddd8c8f1-e15a-4e9f-9887-bf2961a0537b",
   "metadata": {},
   "source": [
    "**Summary of the datasets**"
   ]
  },
  {
   "cell_type": "code",
   "execution_count": null,
   "id": "4a2df717-a12b-4c70-bb58-f27bcd4b3368",
   "metadata": {},
   "outputs": [],
   "source": []
  },
  {
   "cell_type": "markdown",
   "id": "169fabee-4918-4338-8bfe-ed1cb7c69630",
   "metadata": {},
   "source": [
    "**Visualization of the datasets**"
   ]
  },
  {
   "cell_type": "code",
   "execution_count": null,
   "id": "ae735590-0959-405e-a64b-ac75c5154adc",
   "metadata": {},
   "outputs": [],
   "source": []
  },
  {
   "cell_type": "markdown",
   "id": "87c8fa3d-78ea-4aac-98ec-d0e68ec5c2b2",
   "metadata": {},
   "source": [
    "**Data analysis**"
   ]
  },
  {
   "cell_type": "code",
   "execution_count": null,
   "id": "aa610bdc-f5f9-4dfd-9090-ba8c8a9c327d",
   "metadata": {},
   "outputs": [],
   "source": []
  },
  {
   "cell_type": "markdown",
   "id": "daa85651-0233-4b0a-8045-6ed865dc8f26",
   "metadata": {},
   "source": [
    "**Visualization of the analysis**"
   ]
  },
  {
   "cell_type": "code",
   "execution_count": null,
   "id": "b1981a6b-086f-4bf4-a6b2-4ce7e36c420f",
   "metadata": {},
   "outputs": [],
   "source": []
  },
  {
   "cell_type": "markdown",
   "id": "42b4c339-ae41-4445-be97-67b285c4c108",
   "metadata": {},
   "source": [
    "## **III. Discussion**\n",
    "\n",
    "**Summary of what we found**\n",
    "\n",
    "...\n",
    "\n",
    "**Whether this is what we expected to find**\n",
    "\n",
    "...\n",
    "\n",
    "**What impact could our findings have**\n",
    "\n",
    "...\n",
    "\n",
    "**Future questions this lead to**\n",
    "\n",
    "..."
   ]
  },
  {
   "cell_type": "markdown",
   "id": "8d84f76d-b35a-4f6f-b351-7d6a68c693ad",
   "metadata": {},
   "source": [
    "## **References**\n",
    "\n",
    "..."
   ]
  },
  {
   "cell_type": "code",
   "execution_count": null,
   "id": "7fc91dd9-e6e7-4a77-a959-b27924bbc1dd",
   "metadata": {},
   "outputs": [],
   "source": []
  }
 ],
 "metadata": {
  "kernelspec": {
   "display_name": "R",
   "language": "R",
   "name": "ir"
  },
  "language_info": {
   "codemirror_mode": "r",
   "file_extension": ".r",
   "mimetype": "text/x-r-source",
   "name": "R",
   "pygments_lexer": "r",
   "version": "4.3.3"
  }
 },
 "nbformat": 4,
 "nbformat_minor": 5
}
